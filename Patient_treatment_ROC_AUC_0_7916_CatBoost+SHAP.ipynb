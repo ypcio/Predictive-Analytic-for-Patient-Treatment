{
  "metadata": {
    "kernelspec": {
      "language": "python",
      "display_name": "Python 3",
      "name": "python3"
    },
    "language_info": {
      "pygments_lexer": "ipython3",
      "nbconvert_exporter": "python",
      "version": "3.6.4",
      "file_extension": ".py",
      "codemirror_mode": {
        "name": "ipython",
        "version": 3
      },
      "name": "python",
      "mimetype": "text/x-python"
    },
    "kaggle": {
      "accelerator": "none",
      "dataSources": [
        {
          "sourceId": 1950777,
          "sourceType": "datasetVersion",
          "datasetId": 1164243
        }
      ],
      "dockerImageVersionId": 30527,
      "isInternetEnabled": true,
      "language": "python",
      "sourceType": "notebook",
      "isGpuEnabled": false
    },
    "colab": {
      "name": "Patient treatment ROC AUC 0.7916 CatBoost+SHAP",
      "provenance": [],
      "include_colab_link": true
    }
  },
  "nbformat_minor": 0,
  "nbformat": 4,
  "cells": [
    {
      "cell_type": "markdown",
      "metadata": {
        "id": "view-in-github",
        "colab_type": "text"
      },
      "source": [
        "<a href=\"https://colab.research.google.com/github/ypcio/Predictive-Analytic-for-Patient-Treatment/blob/main/Patient_treatment_ROC_AUC_0_7916_CatBoost%2BSHAP.ipynb\" target=\"_parent\"><img src=\"https://colab.research.google.com/assets/colab-badge.svg\" alt=\"Open In Colab\"/></a>"
      ]
    },
    {
      "source": [
        "# IMPORTANT: RUN THIS CELL IN ORDER TO IMPORT YOUR KAGGLE DATA SOURCES,\n",
        "# THEN FEEL FREE TO DELETE THIS CELL.\n",
        "# NOTE: THIS NOTEBOOK ENVIRONMENT DIFFERS FROM KAGGLE'S PYTHON\n",
        "# ENVIRONMENT SO THERE MAY BE MISSING LIBRARIES USED BY YOUR\n",
        "# NOTEBOOK.\n",
        "import kagglehub\n",
        "saurabhshahane_patient_treatment_classification_path = kagglehub.dataset_download('saurabhshahane/patient-treatment-classification')\n",
        "\n",
        "print('Data source import complete.')\n"
      ],
      "metadata": {
        "id": "k3TnAlnfz8l6"
      },
      "cell_type": "code",
      "outputs": [],
      "execution_count": null
    },
    {
      "cell_type": "markdown",
      "source": [
        "# Importing libraries and loading data"
      ],
      "metadata": {
        "id": "KpMRUYMoz8mA"
      }
    },
    {
      "cell_type": "code",
      "source": [
        "# import libraries\n",
        "import numpy as np # linear algebra\n",
        "import pandas as pd # data processing, CSV file I/O (e.g. pd.read_csv)\n",
        "\n",
        "import warnings\n",
        "warnings.filterwarnings(\"ignore\")\n",
        "\n",
        "import shap\n",
        "import matplotlib.pyplot as plt\n",
        "from catboost import Pool, CatBoostClassifier\n",
        "from sklearn.metrics import classification_report, confusion_matrix, roc_auc_score\n",
        "from sklearn.model_selection import train_test_split\n",
        "import seaborn as sns\n",
        "import itertools\n",
        "\n",
        "pd.set_option('display.max_rows', 1000)"
      ],
      "metadata": {
        "execution": {
          "iopub.status.busy": "2023-07-23T17:40:09.791603Z",
          "iopub.execute_input": "2023-07-23T17:40:09.791976Z",
          "iopub.status.idle": "2023-07-23T17:40:09.800437Z",
          "shell.execute_reply.started": "2023-07-23T17:40:09.791945Z",
          "shell.execute_reply": "2023-07-23T17:40:09.799032Z"
        },
        "trusted": true,
        "id": "VMXhOXexz8mD"
      },
      "outputs": [],
      "execution_count": null
    },
    {
      "cell_type": "code",
      "source": [
        "df = pd.read_csv(\"/kaggle/input/patient-treatment-classification/data-ori.csv\").drop_duplicates()\n",
        "print(df.shape)\n",
        "df.sample(5).T"
      ],
      "metadata": {
        "execution": {
          "iopub.status.busy": "2023-07-23T17:40:09.803904Z",
          "iopub.execute_input": "2023-07-23T17:40:09.804442Z",
          "iopub.status.idle": "2023-07-23T17:40:09.848979Z",
          "shell.execute_reply.started": "2023-07-23T17:40:09.8044Z",
          "shell.execute_reply": "2023-07-23T17:40:09.846815Z"
        },
        "trusted": true,
        "id": "3JD_CMLRz8mE"
      },
      "outputs": [],
      "execution_count": null
    },
    {
      "cell_type": "code",
      "source": [
        "df.info()"
      ],
      "metadata": {
        "execution": {
          "iopub.status.busy": "2023-07-23T17:40:09.85162Z",
          "iopub.execute_input": "2023-07-23T17:40:09.852012Z",
          "iopub.status.idle": "2023-07-23T17:40:09.868333Z",
          "shell.execute_reply.started": "2023-07-23T17:40:09.85198Z",
          "shell.execute_reply": "2023-07-23T17:40:09.866974Z"
        },
        "trusted": true,
        "id": "ZUipos5bz8mE"
      },
      "outputs": [],
      "execution_count": null
    },
    {
      "cell_type": "code",
      "source": [
        "df.describe().T"
      ],
      "metadata": {
        "execution": {
          "iopub.status.busy": "2023-07-23T17:40:09.870009Z",
          "iopub.execute_input": "2023-07-23T17:40:09.870412Z",
          "iopub.status.idle": "2023-07-23T17:40:09.919292Z",
          "shell.execute_reply.started": "2023-07-23T17:40:09.870376Z",
          "shell.execute_reply": "2023-07-23T17:40:09.917663Z"
        },
        "trusted": true,
        "id": "wm6Yg4jrz8mF"
      },
      "outputs": [],
      "execution_count": null
    },
    {
      "cell_type": "code",
      "source": [
        "df['SEX'].value_counts()"
      ],
      "metadata": {
        "execution": {
          "iopub.status.busy": "2023-07-23T17:40:09.921332Z",
          "iopub.execute_input": "2023-07-23T17:40:09.9217Z",
          "iopub.status.idle": "2023-07-23T17:40:09.931427Z",
          "shell.execute_reply.started": "2023-07-23T17:40:09.921674Z",
          "shell.execute_reply": "2023-07-23T17:40:09.929711Z"
        },
        "trusted": true,
        "id": "OJD-IFqIz8mG"
      },
      "outputs": [],
      "execution_count": null
    },
    {
      "cell_type": "markdown",
      "source": [
        "# Data transformation"
      ],
      "metadata": {
        "id": "EL6XLEUAz8mG"
      }
    },
    {
      "cell_type": "code",
      "source": [
        "# select label\n",
        "main_label = 'SOURCE'\n",
        "df[main_label] = (df[main_label] == 'in').astype(int)\n",
        "# group age with larger bins\n",
        "df['AGE'] = df['AGE'].apply(lambda x: 10*round(1/10*x))\n",
        "# log10-transform columns and group with larger bins\n",
        "for col in ['HAEMATOCRIT', 'HAEMOGLOBINS', 'ERYTHROCYTE', 'LEUCOCYTE', 'THROMBOCYTE', 'MCH', 'MCHC', 'MCV']:\n",
        "    df[f'log10_{col}'] = df[col].apply(lambda x: 1/5*round(5*np.log10(1+x)))\n",
        "    df = df.drop([col], axis=1)\n",
        "print(df.shape)\n",
        "df.sample(5).T"
      ],
      "metadata": {
        "execution": {
          "iopub.status.busy": "2023-07-23T17:40:09.932832Z",
          "iopub.execute_input": "2023-07-23T17:40:09.933219Z",
          "iopub.status.idle": "2023-07-23T17:40:10.063682Z",
          "shell.execute_reply.started": "2023-07-23T17:40:09.933183Z",
          "shell.execute_reply": "2023-07-23T17:40:10.062066Z"
        },
        "trusted": true,
        "id": "qXm3gS07z8mH"
      },
      "outputs": [],
      "execution_count": null
    },
    {
      "cell_type": "markdown",
      "source": [
        "# Machine learning"
      ],
      "metadata": {
        "id": "s-HRh2Y-z8mH"
      }
    },
    {
      "cell_type": "code",
      "source": [
        "# initialize data\n",
        "y = df[main_label].values.reshape(-1,)\n",
        "X = df.drop([main_label], axis=1)\n",
        "cat_cols = df.select_dtypes(include=['object']).columns\n",
        "cat_cols_idx = [list(X.columns).index(c) for c in cat_cols]\n",
        "X_train,X_test,y_train,y_test = train_test_split(X, y, test_size=0.5, random_state=0)\n",
        "X_train.shape, X_test.shape, y_train.shape, y_test.shape"
      ],
      "metadata": {
        "execution": {
          "iopub.status.busy": "2023-07-23T17:40:10.065251Z",
          "iopub.execute_input": "2023-07-23T17:40:10.065723Z",
          "iopub.status.idle": "2023-07-23T17:40:10.081358Z",
          "shell.execute_reply.started": "2023-07-23T17:40:10.065682Z",
          "shell.execute_reply": "2023-07-23T17:40:10.079407Z"
        },
        "trusted": true,
        "id": "669l50xlz8mI"
      },
      "outputs": [],
      "execution_count": null
    },
    {
      "cell_type": "code",
      "source": [
        "# initialize Pool\n",
        "train_pool = Pool(X_train,\n",
        "                  y_train,\n",
        "                  cat_features=cat_cols_idx)\n",
        "test_pool = Pool(X_test,\n",
        "                 y_test,\n",
        "                 cat_features=cat_cols_idx)\n",
        "# specify the training parameters\n",
        "model = CatBoostClassifier(iterations=1000,\n",
        "                           depth=5,\n",
        "                           border_count=23,\n",
        "                           l2_leaf_reg=0.3,\n",
        "                           learning_rate=3e-3,\n",
        "                           verbose=0)\n",
        "\n",
        "#train the model\n",
        "model.fit(train_pool)\n",
        "# make the prediction using the resulting model\n",
        "y_train_pred = model.predict_proba(train_pool)[:,1]\n",
        "y_test_pred = model.predict_proba(test_pool)[:,1]\n",
        "roc_auc_train = roc_auc_score(y_train, y_train_pred)\n",
        "roc_auc_test = roc_auc_score(y_test, y_test_pred)\n",
        "print(f\"ROC AUC score for train {round(roc_auc_train,4)}, and for test {round(roc_auc_test,4)}\")"
      ],
      "metadata": {
        "execution": {
          "iopub.status.busy": "2023-07-23T17:40:10.084205Z",
          "iopub.execute_input": "2023-07-23T17:40:10.084654Z",
          "iopub.status.idle": "2023-07-23T17:40:11.059223Z",
          "shell.execute_reply.started": "2023-07-23T17:40:10.08462Z",
          "shell.execute_reply": "2023-07-23T17:40:11.058195Z"
        },
        "trusted": true,
        "id": "gdl6oMGQz8mI"
      },
      "outputs": [],
      "execution_count": null
    },
    {
      "cell_type": "code",
      "source": [
        "# calculating the baseline ROC AUC score assuming the same probability from training labels to test\n",
        "roc_auc_baseline = roc_auc_score(y_test, [np.mean(y_train)]*len(y_test))\n",
        "print(roc_auc_baseline)"
      ],
      "metadata": {
        "execution": {
          "iopub.status.busy": "2023-07-23T17:40:11.060315Z",
          "iopub.execute_input": "2023-07-23T17:40:11.060806Z",
          "iopub.status.idle": "2023-07-23T17:40:11.069568Z",
          "shell.execute_reply.started": "2023-07-23T17:40:11.060779Z",
          "shell.execute_reply": "2023-07-23T17:40:11.06809Z"
        },
        "trusted": true,
        "id": "-IpHnMt6z8mJ"
      },
      "outputs": [],
      "execution_count": null
    },
    {
      "cell_type": "code",
      "source": [
        "# plotting confusion matrix\n",
        "def plot_confusion_matrix(cm, classes, title='Confusion Matrix', cmap=plt.cm.Blues):\n",
        "    \"\"\"\n",
        "    This function plots a confusion matrix.\n",
        "\n",
        "    Parameters:\n",
        "        cm (array-like): Confusion matrix as returned by sklearn.metrics.confusion_matrix.\n",
        "        classes (list): List of class names, e.g., ['Class 0', 'Class 1'].\n",
        "        title (str): Title for the plot.\n",
        "        cmap (matplotlib colormap): Colormap for the plot.\n",
        "    \"\"\"\n",
        "    plt.imshow(cm, interpolation='nearest', cmap=cmap)\n",
        "    plt.title(title)\n",
        "    plt.colorbar()\n",
        "    tick_marks = np.arange(len(classes))\n",
        "    plt.xticks(tick_marks, classes, rotation=45)\n",
        "    plt.yticks(tick_marks, classes)\n",
        "\n",
        "    fmt = '.0f'\n",
        "    thresh = cm.max() / 2.0\n",
        "    for i, j in itertools.product(range(cm.shape[0]), range(cm.shape[1])):\n",
        "        plt.text(j, i, format(cm[i, j], fmt), horizontalalignment=\"center\", color=\"white\" if cm[i, j] > thresh else \"black\")\n",
        "\n",
        "    plt.ylabel('True label')\n",
        "    plt.xlabel('Predicted label')\n",
        "    plt.tight_layout()\n",
        "\n",
        "\n",
        "# Get the confusion matrix\n",
        "cm = confusion_matrix(y_test, (y_test_pred > 0.5))\n",
        "#sns.heatmap(cm, annot=True, fmt='d', cmap='Blues')\n",
        "\n",
        "# Plot the confusion matrix\n",
        "class_names = ['out', 'in'] # positive class should come the last\n",
        "plot_confusion_matrix(cm, class_names)"
      ],
      "metadata": {
        "execution": {
          "iopub.status.busy": "2023-07-23T17:40:11.070975Z",
          "iopub.execute_input": "2023-07-23T17:40:11.071989Z",
          "iopub.status.idle": "2023-07-23T17:40:11.313691Z",
          "shell.execute_reply.started": "2023-07-23T17:40:11.071913Z",
          "shell.execute_reply": "2023-07-23T17:40:11.312172Z"
        },
        "trusted": true,
        "id": "rKlZIbbNz8mK"
      },
      "outputs": [],
      "execution_count": null
    },
    {
      "cell_type": "markdown",
      "source": [
        "# Explanations with SHAP values"
      ],
      "metadata": {
        "id": "qtJ55DCmz8mL"
      }
    },
    {
      "cell_type": "code",
      "source": [
        "shap.initjs()\n",
        "ex = shap.TreeExplainer(model)\n",
        "print(f\"Average treatment probability is {round(np.mean(y_test),4)}\")\n",
        "shap_values = ex.shap_values(X_test)\n",
        "shap.summary_plot(shap_values, X_test, max_display=30)"
      ],
      "metadata": {
        "execution": {
          "iopub.status.busy": "2023-07-23T17:40:11.316562Z",
          "iopub.execute_input": "2023-07-23T17:40:11.316866Z",
          "iopub.status.idle": "2023-07-23T17:40:12.600282Z",
          "shell.execute_reply.started": "2023-07-23T17:40:11.316831Z",
          "shell.execute_reply": "2023-07-23T17:40:12.599115Z"
        },
        "trusted": true,
        "id": "qckWqZw7z8mL"
      },
      "outputs": [],
      "execution_count": null
    },
    {
      "cell_type": "code",
      "source": [
        "def show_shap(col, shap_values=shap_values, label=main_label, X_test=X_test, ylabel='SHAP value'):\n",
        "    df_infl = X_test.copy()\n",
        "    df_infl['shap_'] = shap_values[:,df_infl.columns.tolist().index(col)]\n",
        "    gain = round(df_infl.groupby(col).mean()['shap_'],4)\n",
        "    gain_std = round(df_infl.groupby(col).std()['shap_'],4)\n",
        "    cnt = df_infl.groupby(col).count()['shap_']\n",
        "    dd_dict = {'col': list(gain.index), 'gain': list(gain.values), 'gain_std': list(gain_std.values), 'count': cnt}\n",
        "    df_res = pd.DataFrame.from_dict(dd_dict).sort_values('gain', ascending=False).set_index('col')\n",
        "    plt.figure(figsize=(12,8))\n",
        "    plt.errorbar(df_res.index, df_res['gain'], yerr=df_res['gain_std'], fmt=\"o\", color=\"r\")\n",
        "    plt.title(f'SHAP values for column {col}, label {label}')\n",
        "    plt.ylabel(ylabel)\n",
        "    plt.tick_params(axis=\"x\", rotation=90)\n",
        "    plt.show();\n",
        "    print(df_res)\n",
        "    return\n",
        "\n",
        "for col in X_test.columns:\n",
        "    print()\n",
        "    print(col)\n",
        "    print()\n",
        "    show_shap(col, shap_values, label=main_label, X_test=X_test)"
      ],
      "metadata": {
        "execution": {
          "iopub.status.busy": "2023-07-23T17:40:12.601564Z",
          "iopub.execute_input": "2023-07-23T17:40:12.602017Z",
          "iopub.status.idle": "2023-07-23T17:40:14.898531Z",
          "shell.execute_reply.started": "2023-07-23T17:40:12.60199Z",
          "shell.execute_reply": "2023-07-23T17:40:14.89694Z"
        },
        "trusted": true,
        "id": "iwfHeVU8z8mL"
      },
      "outputs": [],
      "execution_count": null
    },
    {
      "cell_type": "code",
      "source": [],
      "metadata": {
        "id": "1LGkxAZXz8mM"
      },
      "outputs": [],
      "execution_count": null
    }
  ]
}